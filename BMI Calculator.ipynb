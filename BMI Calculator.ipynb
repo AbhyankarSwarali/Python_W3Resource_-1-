{
 "cells": [
  {
   "cell_type": "code",
   "execution_count": 4,
   "id": "c73dc145-3a69-4250-a638-064ce7cd090d",
   "metadata": {},
   "outputs": [
    {
     "name": "stdin",
     "output_type": "stream",
     "text": [
      "Enter height in meters: 1.602\n",
      "Enter weight in kgs: 52.1\n"
     ]
    },
    {
     "name": "stdout",
     "output_type": "stream",
     "text": [
      "BMI: 20.300778832950694\n"
     ]
    }
   ],
   "source": [
    "def bmi_calc(): \n",
    "    height = float(input(\"Enter height in meters:\"))\n",
    "    weight = float(input(\"Enter weight in kgs:\"))\n",
    "    bmi = weight / (height**2)\n",
    "    print(\"BMI:\", bmi)\n",
    "bmi_calc()"
   ]
  }
 ],
 "metadata": {
  "kernelspec": {
   "display_name": "Python [conda env:base] *",
   "language": "python",
   "name": "conda-base-py"
  },
  "language_info": {
   "codemirror_mode": {
    "name": "ipython",
    "version": 3
   },
   "file_extension": ".py",
   "mimetype": "text/x-python",
   "name": "python",
   "nbconvert_exporter": "python",
   "pygments_lexer": "ipython3",
   "version": "3.12.7"
  }
 },
 "nbformat": 4,
 "nbformat_minor": 5
}
